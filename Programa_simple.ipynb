{
  "nbformat": 4,
  "nbformat_minor": 0,
  "metadata": {
    "colab": {
      "provenance": [],
      "authorship_tag": "ABX9TyN9haMXzVQa9u1rICvPLJmJ",
      "include_colab_link": true
    },
    "kernelspec": {
      "name": "python3",
      "display_name": "Python 3"
    },
    "language_info": {
      "name": "python"
    }
  },
  "cells": [
    {
      "cell_type": "markdown",
      "metadata": {
        "id": "view-in-github",
        "colab_type": "text"
      },
      "source": [
        "<a href=\"https://colab.research.google.com/github/henrysulub/Ingenieria_Dsoftware/blob/main/Programa_simple.ipynb\" target=\"_parent\"><img src=\"https://colab.research.google.com/assets/colab-badge.svg\" alt=\"Open In Colab\"/></a>"
      ]
    },
    {
      "cell_type": "code",
      "source": [
        "def ordenar_lista_limitada(): ###Creamos una función llamada 'ordenar_lista_limitada'\n",
        "    numeros = []   #### Creamos una lista vacía llamada 'numeros' para almacenar los números ingresados\n",
        "    limite = 9   ###Establecemos un límite de 9 números\n",
        "\n",
        "    while len(numeros) < limite:  #### Iniciamos un bucle 'while' que se ejecutará mientras la longitud de 'numeros' sea menor que 'limite'\n",
        "\n",
        "        try:\n",
        "            numero = float(input(f\"Ingrese el número {len(numeros) + 1}: \"))   #### Solicitamos al usuario que ingrese un número y lo convertimos a un número de punto flotante (float)\n",
        "            numeros.append(numero)  ###Agregamos el número a la lista 'numeros'\n",
        "        except ValueError:  #### Si el usuario ingresa algo que no se puede convertir a un número, mostramos un mensaje de error\n",
        "\n",
        "            print(\"Debe ingresar un número válido.\")\n",
        "\n",
        "    lista_ordenada = sorted(numeros)   ##### Ordenamos la lista 'numeros' usando la función 'sorted' y almacenamos el resultado en 'lista_ordenada'\n",
        "    return lista_ordenada   #### Devolvemos la lista ordenada como resultado de la función\n",
        "\n",
        "# Ejemplo de uso\n",
        "lista_ordenada = ordenar_lista_limitada()\n",
        "print(\"Lista ordenada:\", lista_ordenada)"
      ],
      "metadata": {
        "colab": {
          "base_uri": "https://localhost:8080/"
        },
        "id": "rcDKsfiLaEjQ",
        "outputId": "86100155-0611-47b7-86b1-12fb32f00a24"
      },
      "execution_count": 10,
      "outputs": [
        {
          "output_type": "stream",
          "name": "stdout",
          "text": [
            "Ingrese el número 1: 1\n",
            "Ingrese el número 2: 3\n",
            "Ingrese el número 3: 5\n",
            "Ingrese el número 4: 4\n",
            "Ingrese el número 5: 2\n",
            "Ingrese el número 6: 6\n",
            "Ingrese el número 7: 8\n",
            "Ingrese el número 8: 9\n",
            "Ingrese el número 9: 7\n",
            "Lista ordenada: [1.0, 2.0, 3.0, 4.0, 5.0, 6.0, 7.0, 8.0, 9.0]\n"
          ]
        }
      ]
    }
  ]
}